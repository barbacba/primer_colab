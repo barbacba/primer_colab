{
  "nbformat": 4,
  "nbformat_minor": 0,
  "metadata": {
    "colab": {
      "provenance": [],
      "include_colab_link": true
    },
    "kernelspec": {
      "name": "python3",
      "display_name": "Python 3"
    },
    "language_info": {
      "name": "python"
    }
  },
  "cells": [
    {
      "cell_type": "markdown",
      "metadata": {
        "id": "view-in-github",
        "colab_type": "text"
      },
      "source": [
        "<a href=\"https://colab.research.google.com/github/barbacba/primer_colab/blob/main/Copia_de_Primeros_Pasos_en_Coogle_Colab.ipynb\" target=\"_parent\"><img src=\"https://colab.research.google.com/assets/colab-badge.svg\" alt=\"Open In Colab\"/></a>"
      ]
    },
    {
      "cell_type": "markdown",
      "source": [
        "#Trabajo practico 1\n",
        "\n",
        "como primer paso esta linea de codigo instala el modulo requests para realizar peticones http.."
      ],
      "metadata": {
        "id": "xNFBjiYuG8xB"
      }
    },
    {
      "cell_type": "code",
      "execution_count": null,
      "metadata": {
        "id": "PWkuilbLs_BD",
        "colab": {
          "base_uri": "https://localhost:8080/"
        },
        "outputId": "ce7a6369-e375-4dfb-c557-cf38b70c5d7f"
      },
      "outputs": [
        {
          "output_type": "stream",
          "name": "stdout",
          "text": [
            "Requirement already satisfied: requests in /usr/local/lib/python3.10/dist-packages (2.27.1)\n",
            "Requirement already satisfied: urllib3<1.27,>=1.21.1 in /usr/local/lib/python3.10/dist-packages (from requests) (1.26.16)\n",
            "Requirement already satisfied: certifi>=2017.4.17 in /usr/local/lib/python3.10/dist-packages (from requests) (2023.5.7)\n",
            "Requirement already satisfied: charset-normalizer~=2.0.0 in /usr/local/lib/python3.10/dist-packages (from requests) (2.0.12)\n",
            "Requirement already satisfied: idna<4,>=2.5 in /usr/local/lib/python3.10/dist-packages (from requests) (3.4)\n"
          ]
        }
      ],
      "source": [
        "pip install requests"
      ]
    },
    {
      "cell_type": "markdown",
      "source": [
        "Las  siguientes lineas importan el modulo antes instalado y realizan una peticion http a una API que devuelve un JSON con las cotizaciones actuales"
      ],
      "metadata": {
        "id": "d3dCGH15HlC3"
      }
    },
    {
      "cell_type": "code",
      "source": [
        "import requests as rq\n",
        "def obtener_cotizaciones():return rq.get(\"https://api.bluelytics.com.ar/v2/latest\").json()"
      ],
      "metadata": {
        "id": "FBlnJOTnIID1"
      },
      "execution_count": null,
      "outputs": []
    },
    {
      "cell_type": "markdown",
      "source": [
        "Se definen las funciones que realizaran las converciones segun se lo solicite la interfaz de consola"
      ],
      "metadata": {
        "id": "od3IPXM_KRu1"
      }
    },
    {
      "cell_type": "code",
      "source": [
        "def convertir(monto,arg):\n",
        "  cotizaciones = obtener_cotizaciones()\n",
        "  if arg[\"accion\"]== \"buy\": return monto/cotizaciones[arg[\"cotizacion\"]][f\"value_{arg['accion']}\"]\n",
        "  if arg[\"accion\"]== \"sell\": return monto*cotizaciones[arg[\"cotizacion\"]][f\"value_{arg['accion']}\"]"
      ],
      "metadata": {
        "id": "w09utvn4LDtG"
      },
      "execution_count": null,
      "outputs": []
    },
    {
      "cell_type": "markdown",
      "source": [
        "Interfaz de usuarion en consola"
      ],
      "metadata": {
        "id": "1Yc3gYQoNLeY"
      }
    },
    {
      "cell_type": "code",
      "source": [
        "def opcion_valida(opc):return opc==1 or opc==2 or opc==3\n",
        "\n",
        "def inicio():\n",
        "    print(\"\"\"\n",
        "Seleccione la accion que desea realizar ingresando el numero de la opción y precionando Enter\n",
        "    1-Convertir de U$D a pesos Argentinos.\n",
        "    2-convertir de Pesos Argentinos a U$D.\n",
        "    3-Salir del programa\n",
        "    \"\"\")\n",
        "    opc=input()\n",
        "    try:opc=int(opc)\n",
        "    except ValueError:\n",
        "        print(\"La opcion ingresada no es una opcion valida\")\n",
        "        return 0\n",
        "    if opcion_valida(opc):return opc\n",
        "    else:\n",
        "        print(\"La opcion ingresada no es una opcion valida\")\n",
        "        return 0\n",
        "def obtener_arg(opc_inicio):\n",
        "  if opc_inicio==3: return 3\n",
        "  print(\"\"\"\n",
        "Seleccione el tipo de cambio a tomar ingresando el numero de la opción y precionando Enter\n",
        "    1-Dolar Blue.\n",
        "    2-Dolar Oficial.\n",
        "    3-Salir del programa\n",
        "    \"\"\")\n",
        "  opc=input()\n",
        "  try:opc=int(opc)\n",
        "  except ValueError:\n",
        "    print(\"La opcion ingresada no es una opcion valida\")\n",
        "    return 0\n",
        "  if opcion_valida(opc):\n",
        "    if opc==3:return 3\n",
        "    if opc==1 and opc_inicio==1:return{\"cotizacion\":\"blue\",\"accion\":\"sell\"}\n",
        "    if opc==1 and opc_inicio==2:return{\"cotizacion\":\"blue\",\"accion\":\"buy\"}\n",
        "    if opc==2 and opc_inicio==1:return{\"cotizacion\":\"oficial\",\"accion\":\"sell\"}\n",
        "    if opc==2 and opc_inicio==2:return{\"cotizacion\":\"oficial\",\"accion\":\"buy\"}\n",
        "    else:\n",
        "        print(\"La opcion ingresada no es una opcion valida\")\n",
        "        return 0\n",
        "\n",
        "def imprimir(arg):\n",
        "  monto=input(\"Ingrece el monto a convertir y a continuacion presione Enter: \")\n",
        "  try:monto=float(monto)\n",
        "  except ValueError:\n",
        "    print(\"La opcion ingresada no es una opcion valida\")\n",
        "  if arg[\"accion\"]==\"buy\": print(f\"${monto} son {round(convertir(monto,arg),2)}u$d en cambio dolar {arg['cotizacion']}\")\n",
        "  if arg[\"accion\"]==\"sell\": print(f\"{monto}u$d son ${round(convertir(monto,arg),2)} en cambio dolar {arg['cotizacion']}\")\n",
        "\n",
        "opc=0\n",
        "while opc != 3:\n",
        "  if opc == 0:\n",
        "    opc=inicio()\n",
        "  elif opc == 1:\n",
        "    arg=obtener_arg(opc)\n",
        "    if arg==0 or arg==3:\n",
        "      opc=arg\n",
        "      continue\n",
        "    else:\n",
        "      imprimir(arg)\n",
        "      opc=3\n",
        "  elif opc == 2:\n",
        "    arg=obtener_arg(opc)\n",
        "    if arg==0 or arg==3:\n",
        "      opc=arg\n",
        "      continue\n",
        "    else:\n",
        "      imprimir(arg)\n",
        "      opc=3\n",
        "print(\"Fin del programa.\")"
      ],
      "metadata": {
        "colab": {
          "base_uri": "https://localhost:8080/"
        },
        "id": "oRWy4Q-qNTQ0",
        "outputId": "b75f3c4b-666f-4349-8371-9e76b95673dd"
      },
      "execution_count": null,
      "outputs": [
        {
          "output_type": "stream",
          "name": "stdout",
          "text": [
            "\n",
            "Seleccione la accion que desea realizar ingresando el numero de la opción y precionando Enter\n",
            "    1-Convertir de U$D a pesos Argentinos.\n",
            "    2-convertir de Pesos Argentinos a U$D.\n",
            "    3-Salir del programa\n",
            "    \n",
            "algo\n",
            "La opcion ingresada no es una opcion valida\n",
            "\n",
            "Seleccione la accion que desea realizar ingresando el numero de la opción y precionando Enter\n",
            "    1-Convertir de U$D a pesos Argentinos.\n",
            "    2-convertir de Pesos Argentinos a U$D.\n",
            "    3-Salir del programa\n",
            "    \n",
            "5\n",
            "La opcion ingresada no es una opcion valida\n",
            "\n",
            "Seleccione la accion que desea realizar ingresando el numero de la opción y precionando Enter\n",
            "    1-Convertir de U$D a pesos Argentinos.\n",
            "    2-convertir de Pesos Argentinos a U$D.\n",
            "    3-Salir del programa\n",
            "    \n",
            "1\n",
            "\n",
            "Seleccione el tipo de cambio a tomar ingresando el numero de la opción y precionando Enter\n",
            "    1-Dolar Blue.\n",
            "    2-Dolar Oficial.\n",
            "    3-Salir del programa\n",
            "    \n",
            "algo\n",
            "La opcion ingresada no es una opcion valida\n",
            "\n",
            "Seleccione la accion que desea realizar ingresando el numero de la opción y precionando Enter\n",
            "    1-Convertir de U$D a pesos Argentinos.\n",
            "    2-convertir de Pesos Argentinos a U$D.\n",
            "    3-Salir del programa\n",
            "    \n",
            "5\n",
            "La opcion ingresada no es una opcion valida\n",
            "\n",
            "Seleccione la accion que desea realizar ingresando el numero de la opción y precionando Enter\n",
            "    1-Convertir de U$D a pesos Argentinos.\n",
            "    2-convertir de Pesos Argentinos a U$D.\n",
            "    3-Salir del programa\n",
            "    \n",
            "3\n",
            "Fin del programa.\n"
          ]
        }
      ]
    }
  ]
}